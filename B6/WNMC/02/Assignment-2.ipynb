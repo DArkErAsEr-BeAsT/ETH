{
 "cells": [
  {
   "cell_type": "markdown",
   "metadata": {},
   "source": [
    "David Colonna\n",
    "18944827\n"
   ]
  },
  {
   "cell_type": "markdown",
   "metadata": {},
   "source": [
    "# Step 1\n",
    "\n",
    "## 1.\n",
    "- How would the channel capacity be measured ?\n",
    "\n",
    "Since we only consider a network that operates one one frequency, the channel capacity would describe the maximum information rate that the channel can trasnmit, hence the width of the frequency it transmits on. \n",
    "\n",
    "To demonstrate this we could choose the following scenario :\n",
    "4 radio emitter-receiver, that all transmit on the frequency with value 802-844Hz and we assume that there is no noise and only two signal levels. Then we can use the Nyquist Boiseless Channel Bit Rate : \n",
    "Bit Rate = 42*2 *log_2(2) = 84bps.\n",
    "\n",
    "In order to measure this we would need to have a maximum traffic such that the bandwidth of the frequency channel would be completely saturated, which should not be too much of a problem since the width is very narrow and we have four transmitters."
   ]
  }
 ],
 "metadata": {
  "language_info": {
   "name": "python"
  },
  "orig_nbformat": 4
 },
 "nbformat": 4,
 "nbformat_minor": 2
}
